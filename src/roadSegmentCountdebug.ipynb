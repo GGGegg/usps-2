{
 "cells": [
  {
   "cell_type": "markdown",
   "metadata": {},
   "source": [
    "# load data"
   ]
  },
  {
   "cell_type": "code",
   "execution_count": 1,
   "metadata": {
    "collapsed": true
   },
   "outputs": [],
   "source": [
    "import joblib\n",
    "rawdata = joblib.load(\"../out/collection.dump\")"
   ]
  },
  {
   "cell_type": "markdown",
   "metadata": {},
   "source": [
    "# zipcode extracting function"
   ]
  },
  {
   "cell_type": "code",
   "execution_count": 2,
   "metadata": {
    "collapsed": false,
    "scrolled": false
   },
   "outputs": [],
   "source": [
    "import collections\n",
    "import numpy as np\n",
    "import matplotlib.pyplot as plt\n",
    "def extracttrips(rawdata,zipsize=None,by='EventZIPCode'):\n",
    "    trips = []\n",
    "    for key in rawdata:\n",
    "        if \"TrackDetail\" not in rawdata[key]:\n",
    "            continue\n",
    "        zipcodes = []\n",
    "        for step in rawdata[key]['TrackDetail']:\n",
    "\n",
    "            if type(step) == collections.OrderedDict:\n",
    "                \n",
    "                zipcode = step[by]  \n",
    "                if zipcode is not None:\n",
    "                    if zipsize is None:\n",
    "                        zipcodes.append(str(zipcode))\n",
    "                    else:\n",
    "                        zipcodes.append(str(zipcode)[:zipsize])\n",
    "        uniquetrip= np.unique(zipcodes)\n",
    "        trips.append(uniquetrip)\n",
    "    return trips\n"
   ]
  },
  {
   "cell_type": "markdown",
   "metadata": {},
   "source": [
    "# draw the count of state in each trip "
   ]
  },
  {
   "cell_type": "code",
   "execution_count": 24,
   "metadata": {
    "collapsed": false
   },
   "outputs": [
    {
     "data": {
      "image/png": "[encoded data removed]",
      "text/plain": [
       "<matplotlib.figure.Figure at 0x11e8df710>"
      ]
     },
     "metadata": {},
     "output_type": "display_data"
    }
   ],
   "source": [
    "trips = extracttrips(rawdata,by='EventState')\n",
    "tripslength = [len(x) for x in trips]\n",
    "tripslength.sort()\n",
    "plt.plot(tripslength)\n",
    "plt.show()"
   ]
  },
  {
   "cell_type": "markdown",
   "metadata": {},
   "source": [
    "# draw the count of zip code in each trip in big city level"
   ]
  },
  {
   "cell_type": "code",
   "execution_count": 14,
   "metadata": {
    "collapsed": false
   },
   "outputs": [
    {
     "data": {
      "image/png": "[encoded data removed]",
      "text/plain": [
       "<matplotlib.figure.Figure at 0x1103904d0>"
      ]
     },
     "metadata": {},
     "output_type": "display_data"
    },
    {
     "name": "stdout",
     "output_type": "stream",
     "text": [
      "# link with more than 1 occur: 356\n"
     ]
    }
   ],
   "source": [
    "\n",
    "trips = extracttrips(rawdata)\n",
    "tripslength = [len(x) for x in trips]\n",
    "tripslength.sort()\n",
    "plt.plot(tripslength)\n",
    "plt.show()\n",
    "import pandas as pd\n",
    "links = []\n",
    "for val in trips:\n",
    "    links.extend([(val[i],val[i+1]) for i in range(len(val)-1)])\n",
    "linksrate = pd.Series(links).value_counts()\n",
    "print '# link with more than 1 occur:', (linksrate>1).sum()\n",
    "\n"
   ]
  },
  {
   "cell_type": "code",
   "execution_count": 7,
   "metadata": {
    "collapsed": false
   },
   "outputs": [],
   "source": [
    "# draw the count of zip code in each trip in small city level "
   ]
  },
  {
   "cell_type": "code",
   "execution_count": 13,
   "metadata": {
    "collapsed": false
   },
   "outputs": [
    {
     "data": {
      "image/png": "[encoded data removed]",
      "text/plain": [
       "<matplotlib.figure.Figure at 0x119360a50>"
      ]
     },
     "metadata": {},
     "output_type": "display_data"
    },
    {
     "name": "stdout",
     "output_type": "stream",
     "text": [
      "link with more than 1 occur: 416\n"
     ]
    }
   ],
   "source": [
    "\n",
    "trips = extracttrips(rawdata,3)\n",
    "tripslength = [len(x) for x in trips]\n",
    "tripslength.sort()\n",
    "plt.plot(tripslength)\n",
    "plt.show()\n",
    "import pandas as pd\n",
    "links = []\n",
    "for val in trips:\n",
    "    links.extend([(val[i],val[i+1]) for i in range(len(val)-1)])\n",
    "linksrate = pd.Series(links).value_counts()\n",
    "print 'link with more than 1 occur:', (linksrate>1).sum()\n",
    "\n"
   ]
  },
  {
   "cell_type": "code",
   "execution_count": null,
   "metadata": {
    "collapsed": true
   },
   "outputs": [],
   "source": []
  }
 ],
 "metadata": {
  "kernelspec": {
   "display_name": "Python 2",
   "language": "python",
   "name": "python2"
  },
  "language_info": {
   "codemirror_mode": {
    "name": "ipython",
    "version": 2
   },
   "file_extension": ".py",
   "mimetype": "text/x-python",
   "name": "python",
   "nbconvert_exporter": "python",
   "pygments_lexer": "ipython2",
   "version": "2.7.10"
  }
 },
 "nbformat": 4,
 "nbformat_minor": 2
}
